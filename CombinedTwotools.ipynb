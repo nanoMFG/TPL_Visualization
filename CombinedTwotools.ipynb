{
 "cells": [
  {
   "cell_type": "markdown",
   "metadata": {},
   "source": [
    "<img src=\"https://news.illinois.edu/files/6367/543635/116641.jpg\" alt=\"University of Illinois\" style=\"width: 250px;\"/>"
   ]
  },
  {
   "cell_type": "markdown",
   "metadata": {},
   "source": [
    "# <center>Two Photon Lithography Analysis</center>"
   ]
  },
  {
   "cell_type": "markdown",
   "metadata": {},
   "source": [
    "# First Tool :[Uncertainty Analysis](tool1.ipynb)\n",
    "\n",
    "Data Based Uncertainty Quatification and Analysis for Two Photon Lithography\n",
    "\n",
    "The tool will provide:\n",
    "\n",
    "1.Spatial distributions of geometric features. (a)Height (b)Radius (c)Volume\n",
    "\n",
    "2.Geometric deviation from the designed shape.\n",
    "\n",
    "3.Summary of geimetric features and errors"
   ]
  },
  {
   "cell_type": "markdown",
   "metadata": {},
   "source": [
    "# Second Tool:[Compensation Analysis](Second_tool-Copy1.ipynb)\n",
    "\n",
    "Machine Learning of Gaussian Process for Compensation Design of Two Photon Lithography \n",
    "The tool will provide:\n",
    "\n",
    "1.Compensation of geometric features. (a)Height (b)Radius \n",
    "\n",
    "2.Compensation shape deviation from the designed shape.\n"
   ]
  },
  {
   "cell_type": "code",
   "execution_count": null,
   "metadata": {},
   "outputs": [],
   "source": []
  }
 ],
 "metadata": {
  "kernelspec": {
   "display_name": "Python 3",
   "language": "python",
   "name": "python3"
  },
  "language_info": {
   "codemirror_mode": {
    "name": "ipython",
    "version": 3
   },
   "file_extension": ".py",
   "mimetype": "text/x-python",
   "name": "python",
   "nbconvert_exporter": "python",
   "pygments_lexer": "ipython3",
   "version": "3.7.6"
  }
 },
 "nbformat": 4,
 "nbformat_minor": 4
}
